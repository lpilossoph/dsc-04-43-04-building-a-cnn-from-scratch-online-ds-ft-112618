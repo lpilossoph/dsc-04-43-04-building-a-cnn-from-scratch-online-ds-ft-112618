{
 "cells": [
  {
   "cell_type": "markdown",
   "metadata": {},
   "source": [
    "# Building a CNN from Scratch - Lab\n",
    "\n",
    "## Introduction\n",
    "\n",
    "Now that you have background knowledge regarding how CNNs work and how to implement them via Keras, its time to pratice those skills a little more independently in order to build a CNN on your own to solve a image recognition problem. In this lab, you'll practice building an image classifier from start to finish using a CNN.  \n",
    "\n",
    "## Objectives\n",
    "\n",
    "You will be able to:\n",
    "* Transform images into tensors\n",
    "* Build a CNN model for image recognition"
   ]
  },
  {
   "cell_type": "markdown",
   "metadata": {},
   "source": [
    "## Loading the Images\n",
    "\n",
    "The data for this lab concerns classifying lung xray images for pneumonia. The original dataset is from kaggle. We have downsampled this dataset in order to reduce trainging time for you when you design and fit your model to the data. It is anticipated that this process will take approximately 1 hour to run on a standard machine, although times will vary depending on your particular computer and set up. At the end of this lab, you are welcome to try training on the complete dataset and observe the impact on the model's overall accuracy. \n",
    "\n",
    "You can find the initial downsampled dataset in a subdirectory, **chest_xray**, of this repository."
   ]
  },
  {
   "cell_type": "code",
   "execution_count": 1,
   "metadata": {},
   "outputs": [
    {
     "name": "stderr",
     "output_type": "stream",
     "text": [
      "Using TensorFlow backend.\n"
     ]
    }
   ],
   "source": [
    "from keras.preprocessing.image import ImageDataGenerator\n",
    "import datetime\n",
    "\n",
    "original_start = datetime.datetime.now()\n",
    "start = datetime.datetime.now()"
   ]
  },
  {
   "cell_type": "code",
   "execution_count": 2,
   "metadata": {},
   "outputs": [
    {
     "name": "stdout",
     "output_type": "stream",
     "text": [
      "Found 1738 images belonging to 2 classes.\n",
      "Found 4 images belonging to 2 classes.\n"
     ]
    }
   ],
   "source": [
    "#Your code here; load the images; be sure to also preprocess these into tensors.\n",
    "train_dir = 'chest_xray_downsampled/train'\n",
    "validation_dir = 'chest_xray_downsampled/val/'\n",
    "test_dir = 'chest_xray_downsampled/test/'\n",
    "\n",
    "# All images will be rescaled by 1./255\n",
    "train_datagen = ImageDataGenerator(rescale=1./255)\n",
    "test_datagen = ImageDataGenerator(rescale=1./255)\n",
    "\n",
    "train_generator = train_datagen.flow_from_directory(\n",
    "        # This is the target directory\n",
    "        train_dir,\n",
    "        # All images will be resized to 150x150\n",
    "        target_size=(150, 150),\n",
    "        batch_size=20,\n",
    "        # Since we use binary_crossentropy loss, we need binary labels\n",
    "        class_mode='binary')\n",
    "\n",
    "validation_generator = test_datagen.flow_from_directory(\n",
    "        validation_dir,\n",
    "        target_size=(150, 150),\n",
    "        batch_size=20,\n",
    "        class_mode='binary')"
   ]
  },
  {
   "cell_type": "markdown",
   "metadata": {},
   "source": [
    "## Designing the Model\n",
    "\n",
    "Now it's time to design your CNN! Remember a few things when doing this: \n",
    "* You should alternate convolutional and pooling layers\n",
    "* You should have later layers have a larger number of parameters in order to detect more abstract patterns\n",
    "* Add some final dense layers to add a classifier to the convolutional base"
   ]
  },
  {
   "cell_type": "code",
   "execution_count": 3,
   "metadata": {},
   "outputs": [
    {
     "name": "stdout",
     "output_type": "stream",
     "text": [
      "WARNING:tensorflow:From /anaconda3/lib/python3.7/site-packages/tensorflow/python/framework/op_def_library.py:263: colocate_with (from tensorflow.python.framework.ops) is deprecated and will be removed in a future version.\n",
      "Instructions for updating:\n",
      "Colocations handled automatically by placer.\n"
     ]
    }
   ],
   "source": [
    "#Your code here; design and compile the model\n",
    "from keras import layers\n",
    "from keras import models\n",
    "\n",
    "model = models.Sequential()\n",
    "model.add(layers.Conv2D(32, (3, 3), activation='relu',\n",
    "                        input_shape=(150, 150, 3)))\n",
    "model.add(layers.MaxPooling2D((2, 2)))\n",
    "model.add(layers.Conv2D(64, (3, 3), activation='relu'))\n",
    "model.add(layers.MaxPooling2D((2, 2)))\n",
    "model.add(layers.Conv2D(128, (3, 3), activation='relu'))\n",
    "model.add(layers.MaxPooling2D((2, 2)))\n",
    "model.add(layers.Conv2D(128, (3, 3), activation='relu'))\n",
    "model.add(layers.MaxPooling2D((2, 2)))\n",
    "model.add(layers.Flatten())\n",
    "model.add(layers.Dense(512, activation='relu'))\n",
    "model.add(layers.Dense(1, activation='sigmoid'))"
   ]
  },
  {
   "cell_type": "code",
   "execution_count": 4,
   "metadata": {},
   "outputs": [],
   "source": [
    "from keras import optimizers\n",
    "\n",
    "model.compile(loss='binary_crossentropy',\n",
    "              optimizer=optimizers.RMSprop(lr=1e-4),\n",
    "              metrics=['acc'])"
   ]
  },
  {
   "cell_type": "markdown",
   "metadata": {},
   "source": [
    "## Training and Evaluating the Model\n",
    "\n",
    "Remember that training deep networks is resource intensive: depending on the size of the data, even a CNN with 3-4 successive convolutional and pooling layers is apt to take a hours to train on a high end laptop. Using 30 epochs and 8 layers (alternating between convolutional and pooling), our model took about 40 minutes to run on a year old macbook pro.\n",
    "\n",
    "\n",
    "If you are concerned with runtime, you may want to set your model to run the training epochs overnight.  \n",
    "\n",
    "**If you are going to run this process overnight, be sure to also script code for the following questions concerning data augmentation. Check your code twice (or more) and then set the notebook to run all, or something equivalent to have them train overnight.**"
   ]
  },
  {
   "cell_type": "code",
   "execution_count": 5,
   "metadata": {},
   "outputs": [
    {
     "name": "stdout",
     "output_type": "stream",
     "text": [
      "WARNING:tensorflow:From /anaconda3/lib/python3.7/site-packages/tensorflow/python/ops/math_ops.py:3066: to_int32 (from tensorflow.python.ops.math_ops) is deprecated and will be removed in a future version.\n",
      "Instructions for updating:\n",
      "Use tf.cast instead.\n",
      "Epoch 1/30\n",
      "100/100 [==============================] - 83s 829ms/step - loss: 0.4711 - acc: 0.7932 - val_loss: 0.7905 - val_acc: 0.7500\n",
      "Epoch 2/30\n",
      "100/100 [==============================] - 73s 731ms/step - loss: 0.2457 - acc: 0.9014 - val_loss: 0.5264 - val_acc: 0.7500\n",
      "Epoch 3/30\n",
      "100/100 [==============================] - 76s 758ms/step - loss: 0.1674 - acc: 0.9324 - val_loss: 1.1211 - val_acc: 0.7500\n",
      "Epoch 4/30\n",
      "100/100 [==============================] - 76s 764ms/step - loss: 0.1410 - acc: 0.9428 - val_loss: 1.7451 - val_acc: 0.5000\n",
      "Epoch 5/30\n",
      "100/100 [==============================] - 76s 758ms/step - loss: 0.1224 - acc: 0.9443 - val_loss: 0.7713 - val_acc: 0.5000\n",
      "Epoch 6/30\n",
      "100/100 [==============================] - 78s 777ms/step - loss: 0.1075 - acc: 0.9579 - val_loss: 0.2357 - val_acc: 0.7500\n",
      "Epoch 7/30\n",
      "100/100 [==============================] - 77s 767ms/step - loss: 0.1008 - acc: 0.9613 - val_loss: 1.2648 - val_acc: 0.5000\n",
      "Epoch 8/30\n",
      "100/100 [==============================] - 77s 768ms/step - loss: 0.0842 - acc: 0.9650 - val_loss: 0.1718 - val_acc: 1.0000\n",
      "Epoch 9/30\n",
      "100/100 [==============================] - 78s 783ms/step - loss: 0.0803 - acc: 0.9674 - val_loss: 0.4006 - val_acc: 0.7500\n",
      "Epoch 10/30\n",
      "100/100 [==============================] - 83s 826ms/step - loss: 0.0726 - acc: 0.9713 - val_loss: 0.2432 - val_acc: 0.7500\n",
      "Epoch 11/30\n",
      "100/100 [==============================] - 70s 697ms/step - loss: 0.0745 - acc: 0.9730 - val_loss: 0.0889 - val_acc: 1.0000\n",
      "Epoch 12/30\n",
      "100/100 [==============================] - 80s 798ms/step - loss: 0.0622 - acc: 0.9750 - val_loss: 0.1797 - val_acc: 1.0000\n",
      "Epoch 13/30\n",
      "100/100 [==============================] - 81s 807ms/step - loss: 0.0472 - acc: 0.9815 - val_loss: 0.6219 - val_acc: 0.7500\n",
      "Epoch 14/30\n",
      "100/100 [==============================] - 78s 777ms/step - loss: 0.0469 - acc: 0.9834 - val_loss: 0.6197 - val_acc: 0.7500\n",
      "Epoch 15/30\n",
      "100/100 [==============================] - 81s 811ms/step - loss: 0.0457 - acc: 0.9834 - val_loss: 0.2571 - val_acc: 0.7500\n",
      "Epoch 16/30\n",
      "100/100 [==============================] - 75s 753ms/step - loss: 0.0409 - acc: 0.9850 - val_loss: 0.1605 - val_acc: 1.0000\n",
      "Epoch 17/30\n",
      "100/100 [==============================] - 73s 734ms/step - loss: 0.0373 - acc: 0.9835 - val_loss: 0.2199 - val_acc: 0.7500\n",
      "Epoch 18/30\n",
      "100/100 [==============================] - 73s 733ms/step - loss: 0.0365 - acc: 0.9855 - val_loss: 0.7971 - val_acc: 0.7500\n",
      "Epoch 19/30\n",
      "100/100 [==============================] - 77s 766ms/step - loss: 0.0258 - acc: 0.9885 - val_loss: 1.6522 - val_acc: 0.5000\n",
      "Epoch 20/30\n",
      "100/100 [==============================] - 74s 736ms/step - loss: 0.0270 - acc: 0.9905 - val_loss: 0.5442 - val_acc: 0.7500\n",
      "Epoch 21/30\n",
      "100/100 [==============================] - 73s 725ms/step - loss: 0.0261 - acc: 0.9915 - val_loss: 0.7007 - val_acc: 0.7500\n",
      "Epoch 22/30\n",
      "100/100 [==============================] - 74s 741ms/step - loss: 0.0205 - acc: 0.9925 - val_loss: 0.9450 - val_acc: 0.7500\n",
      "Epoch 23/30\n",
      "100/100 [==============================] - 72s 720ms/step - loss: 0.0286 - acc: 0.9930 - val_loss: 1.1614 - val_acc: 0.7500\n",
      "Epoch 24/30\n",
      "100/100 [==============================] - 77s 765ms/step - loss: 0.0198 - acc: 0.9909 - val_loss: 0.3065 - val_acc: 0.7500\n",
      "Epoch 25/30\n",
      "100/100 [==============================] - 78s 776ms/step - loss: 0.0149 - acc: 0.9934 - val_loss: 0.2892 - val_acc: 0.7500\n",
      "Epoch 26/30\n",
      "100/100 [==============================] - 75s 749ms/step - loss: 0.0096 - acc: 0.9955 - val_loss: 1.3411 - val_acc: 0.7500\n",
      "Epoch 27/30\n",
      "100/100 [==============================] - 74s 741ms/step - loss: 0.0140 - acc: 0.9965 - val_loss: 0.6673 - val_acc: 0.7500\n",
      "Epoch 28/30\n",
      "100/100 [==============================] - 74s 742ms/step - loss: 0.0168 - acc: 0.9960 - val_loss: 0.1804 - val_acc: 0.7500\n",
      "Epoch 29/30\n",
      "100/100 [==============================] - 72s 719ms/step - loss: 0.0093 - acc: 0.9980 - val_loss: 0.6761 - val_acc: 0.7500\n",
      "Epoch 30/30\n",
      "100/100 [==============================] - 75s 752ms/step - loss: 0.0152 - acc: 0.9955 - val_loss: 0.1405 - val_acc: 1.0000\n"
     ]
    }
   ],
   "source": [
    "#Set the model to train; see warnings above\n",
    "history = model.fit_generator(\n",
    "      train_generator,\n",
    "      steps_per_epoch=100,\n",
    "      epochs=30,\n",
    "      validation_data=validation_generator,\n",
    "      validation_steps=50)"
   ]
  },
  {
   "cell_type": "code",
   "execution_count": 6,
   "metadata": {},
   "outputs": [
    {
     "data": {
      "image/png": "[encoded data removed]",
      "text/plain": [
       "<Figure size 432x288 with 1 Axes>"
      ]
     },
     "metadata": {
      "needs_background": "light"
     },
     "output_type": "display_data"
    },
    {
     "data": {
      "image/png": "[encoded data removed]",
      "text/plain": [
       "<Figure size 432x288 with 1 Axes>"
      ]
     },
     "metadata": {
      "needs_background": "light"
     },
     "output_type": "display_data"
    }
   ],
   "source": [
    "# Plot history\n",
    "import matplotlib.pyplot as plt\n",
    "%matplotlib inline \n",
    "\n",
    "acc = history.history['acc']\n",
    "val_acc = history.history['val_acc']\n",
    "loss = history.history['loss']\n",
    "val_loss = history.history['val_loss']\n",
    "epochs = range(len(acc))\n",
    "plt.plot(epochs, acc, 'bo', label='Training acc')\n",
    "plt.plot(epochs, val_acc, 'b', label='Validation acc')\n",
    "plt.title('Training and validation accuracy')\n",
    "plt.legend()\n",
    "plt.figure()\n",
    "plt.plot(epochs, loss, 'bo', label='Training loss')\n",
    "plt.plot(epochs, val_loss, 'b', label='Validation loss')\n",
    "plt.title('Training and validation loss')\n",
    "plt.legend()\n",
    "plt.show()"
   ]
  },
  {
   "cell_type": "markdown",
   "metadata": {},
   "source": [
    "## Save the Model"
   ]
  },
  {
   "cell_type": "code",
   "execution_count": 7,
   "metadata": {
    "scrolled": true
   },
   "outputs": [
    {
     "name": "stdout",
     "output_type": "stream",
     "text": [
      "Training took a total of 0:40:44.916350\n"
     ]
    }
   ],
   "source": [
    "#Your code here; save the model for future reference.\n",
    "end = datetime.datetime.now()\n",
    "elapsed = end - start\n",
    "print('Training took a total of {}'.format(elapsed))"
   ]
  },
  {
   "cell_type": "code",
   "execution_count": 8,
   "metadata": {},
   "outputs": [],
   "source": [
    "model.save('chest_xray_downsampled_data.h5')"
   ]
  },
  {
   "cell_type": "markdown",
   "metadata": {},
   "source": [
    "## Data Augmentation\n",
    "\n",
    "Recall that data augmentation is typically always a necessary step when using a small dataset as this one which you have been provided. As such, if you haven't already, implement a data augmentation setup.\n",
    "\n",
    "**Warning: This process took nearly 4 hours to run on a relatively new macbook pro. As such, it is recommended that you simply code the setup and compare to the solution branch, or set the process to run overnight if you do choose to actually run the code.**"
   ]
  },
  {
   "cell_type": "code",
   "execution_count": 9,
   "metadata": {
    "scrolled": false
   },
   "outputs": [
    {
     "name": "stdout",
     "output_type": "stream",
     "text": [
      "Found 1738 images belonging to 2 classes.\n",
      "Found 4 images belonging to 2 classes.\n",
      "Epoch 1/100\n",
      "100/100 [==============================] - 117s 1s/step - loss: 4.4324 - acc: 0.7226 - val_loss: 0.2720 - val_acc: 0.7500\n",
      "Epoch 2/100\n",
      "100/100 [==============================] - 109s 1s/step - loss: 4.2022 - acc: 0.7364 - val_loss: 7.3114 - val_acc: 0.5000\n",
      "Epoch 3/100\n",
      "100/100 [==============================] - 109s 1s/step - loss: 4.0753 - acc: 0.7444 - val_loss: 6.2157 - val_acc: 0.5000\n",
      "Epoch 4/100\n",
      "100/100 [==============================] - 123s 1s/step - loss: 4.1618 - acc: 0.7389 - val_loss: 6.2157 - val_acc: 0.5000\n",
      "Epoch 5/100\n",
      "100/100 [==============================] - 118s 1s/step - loss: 4.0230 - acc: 0.7477 - val_loss: 6.2157 - val_acc: 0.5000\n",
      "Epoch 6/100\n",
      "100/100 [==============================] - 118s 1s/step - loss: 4.0734 - acc: 0.7445 - val_loss: 6.2157 - val_acc: 0.5000\n",
      "Epoch 7/100\n",
      "100/100 [==============================] - 118s 1s/step - loss: 4.1206 - acc: 0.7416 - val_loss: 4.0523 - val_acc: 0.5000\n",
      "Epoch 8/100\n",
      "100/100 [==============================] - 122s 1s/step - loss: 3.9510 - acc: 0.7517 - val_loss: 5.2824 - val_acc: 0.5000\n",
      "Epoch 9/100\n",
      "100/100 [==============================] - 111s 1s/step - loss: 4.0420 - acc: 0.7465 - val_loss: 5.2824 - val_acc: 0.5000\n",
      "Epoch 10/100\n",
      "100/100 [==============================] - 113s 1s/step - loss: 4.0015 - acc: 0.7490 - val_loss: 5.2824 - val_acc: 0.5000\n",
      "Epoch 11/100\n",
      "100/100 [==============================] - 112s 1s/step - loss: 4.1469 - acc: 0.7399 - val_loss: 5.2824 - val_acc: 0.5000\n",
      "Epoch 12/100\n",
      "100/100 [==============================] - 117s 1s/step - loss: 4.1191 - acc: 0.7416 - val_loss: 5.2824 - val_acc: 0.5000\n",
      "Epoch 13/100\n",
      "100/100 [==============================] - 126s 1s/step - loss: 4.0106 - acc: 0.7481 - val_loss: 4.3063 - val_acc: 0.5000\n",
      "Epoch 14/100\n",
      "100/100 [==============================] - 118s 1s/step - loss: 4.0610 - acc: 0.7455 - val_loss: 4.3571 - val_acc: 0.5000\n",
      "Epoch 15/100\n",
      "100/100 [==============================] - 128s 1s/step - loss: 3.9501 - acc: 0.7522 - val_loss: 4.3571 - val_acc: 0.5000\n",
      "Epoch 16/100\n",
      "100/100 [==============================] - 137s 1s/step - loss: 4.0516 - acc: 0.7459 - val_loss: 4.3571 - val_acc: 0.5000\n",
      "Epoch 17/100\n",
      "100/100 [==============================] - 138s 1s/step - loss: 3.9362 - acc: 0.7531 - val_loss: 4.3571 - val_acc: 0.5000\n",
      "Epoch 18/100\n",
      "100/100 [==============================] - 139s 1s/step - loss: 4.0954 - acc: 0.7431 - val_loss: 4.3571 - val_acc: 0.5000\n",
      "Epoch 19/100\n",
      "100/100 [==============================] - 144s 1s/step - loss: 3.9506 - acc: 0.7524 - val_loss: 0.7195 - val_acc: 0.7500\n",
      "Epoch 20/100\n",
      "100/100 [==============================] - 149s 1s/step - loss: 3.8939 - acc: 0.7557 - val_loss: 1.7880 - val_acc: 0.7500\n",
      "Epoch 21/100\n",
      "100/100 [==============================] - 150s 2s/step - loss: 3.7787 - acc: 0.7632 - val_loss: 1.6988 - val_acc: 0.7500\n",
      "Epoch 22/100\n",
      "100/100 [==============================] - 157s 2s/step - loss: 3.9141 - acc: 0.7544 - val_loss: 1.1384 - val_acc: 0.7500\n",
      "Epoch 23/100\n",
      "100/100 [==============================] - 158s 2s/step - loss: 4.3683 - acc: 0.7267 - val_loss: 2.6383 - val_acc: 0.7500\n",
      "Epoch 24/100\n",
      "100/100 [==============================] - 157s 2s/step - loss: 3.9265 - acc: 0.7536 - val_loss: 4.7732 - val_acc: 0.5000\n",
      "Epoch 25/100\n",
      "100/100 [==============================] - 162s 2s/step - loss: 4.0415 - acc: 0.7464 - val_loss: 7.9712 - val_acc: 0.5000\n",
      "Epoch 26/100\n",
      "100/100 [==============================] - 161s 2s/step - loss: 4.1817 - acc: 0.7377 - val_loss: 7.9712 - val_acc: 0.5000\n",
      "Epoch 27/100\n",
      "100/100 [==============================] - 161s 2s/step - loss: 3.9272 - acc: 0.7537 - val_loss: 7.9712 - val_acc: 0.5000\n",
      "Epoch 28/100\n",
      "100/100 [==============================] - 164s 2s/step - loss: 4.1606 - acc: 0.7390 - val_loss: 7.9712 - val_acc: 0.5000\n",
      "Epoch 29/100\n",
      "100/100 [==============================] - 162s 2s/step - loss: 4.1093 - acc: 0.7422 - val_loss: 7.9712 - val_acc: 0.5000\n",
      "Epoch 30/100\n",
      "100/100 [==============================] - 160s 2s/step - loss: 4.1070 - acc: 0.7424 - val_loss: 7.9712 - val_acc: 0.5000\n",
      "Epoch 31/100\n",
      "100/100 [==============================] - 160s 2s/step - loss: 4.0853 - acc: 0.7437 - val_loss: 7.9712 - val_acc: 0.5000\n",
      "Epoch 32/100\n",
      "100/100 [==============================] - 160s 2s/step - loss: 4.0820 - acc: 0.7440 - val_loss: 7.9712 - val_acc: 0.5000\n",
      "Epoch 33/100\n",
      "100/100 [==============================] - 159s 2s/step - loss: 4.1459 - acc: 0.7399 - val_loss: 7.9712 - val_acc: 0.5000\n",
      "Epoch 34/100\n",
      "100/100 [==============================] - 161s 2s/step - loss: 4.0732 - acc: 0.7445 - val_loss: 7.9712 - val_acc: 0.5000\n",
      "Epoch 35/100\n",
      "100/100 [==============================] - 160s 2s/step - loss: 4.1401 - acc: 0.7403 - val_loss: 7.9712 - val_acc: 0.5000\n",
      "Epoch 36/100\n",
      "100/100 [==============================] - 160s 2s/step - loss: 4.1527 - acc: 0.7395 - val_loss: 7.9712 - val_acc: 0.5000\n",
      "Epoch 37/100\n",
      "100/100 [==============================] - 157s 2s/step - loss: 4.0853 - acc: 0.7437 - val_loss: 7.9712 - val_acc: 0.5000\n",
      "Epoch 38/100\n",
      "100/100 [==============================] - 160s 2s/step - loss: 4.0694 - acc: 0.7447 - val_loss: 7.9712 - val_acc: 0.5000\n",
      "Epoch 39/100\n",
      "100/100 [==============================] - 159s 2s/step - loss: 4.0732 - acc: 0.7445 - val_loss: 7.9712 - val_acc: 0.5000\n",
      "Epoch 40/100\n",
      "100/100 [==============================] - 159s 2s/step - loss: 4.1070 - acc: 0.7424 - val_loss: 7.9712 - val_acc: 0.5000\n",
      "Epoch 41/100\n",
      "100/100 [==============================] - 158s 2s/step - loss: 4.0703 - acc: 0.7447 - val_loss: 7.9712 - val_acc: 0.5000\n",
      "Epoch 42/100\n",
      "100/100 [==============================] - 158s 2s/step - loss: 4.0861 - acc: 0.7437 - val_loss: 7.9712 - val_acc: 0.5000\n",
      "Epoch 43/100\n",
      "100/100 [==============================] - 161s 2s/step - loss: 4.2438 - acc: 0.7338 - val_loss: 7.9712 - val_acc: 0.5000\n",
      "Epoch 44/100\n",
      "100/100 [==============================] - 162s 2s/step - loss: 4.0589 - acc: 0.7454 - val_loss: 7.9712 - val_acc: 0.5000\n",
      "Epoch 45/100\n",
      "100/100 [==============================] - 163s 2s/step - loss: 4.0642 - acc: 0.7451 - val_loss: 7.9712 - val_acc: 0.5000\n",
      "Epoch 46/100\n",
      "100/100 [==============================] - 163s 2s/step - loss: 4.1682 - acc: 0.7385 - val_loss: 7.9712 - val_acc: 0.5000\n",
      "Epoch 47/100\n",
      "100/100 [==============================] - 164s 2s/step - loss: 4.0961 - acc: 0.7431 - val_loss: 7.9712 - val_acc: 0.5000\n",
      "Epoch 48/100\n",
      "100/100 [==============================] - 168s 2s/step - loss: 4.0820 - acc: 0.7440 - val_loss: 7.9712 - val_acc: 0.5000\n",
      "Epoch 49/100\n",
      "100/100 [==============================] - 166s 2s/step - loss: 4.0961 - acc: 0.7431 - val_loss: 7.9712 - val_acc: 0.5000\n",
      "Epoch 50/100\n",
      "100/100 [==============================] - 167s 2s/step - loss: 4.1380 - acc: 0.7404 - val_loss: 7.9712 - val_acc: 0.5000\n",
      "Epoch 51/100\n",
      "100/100 [==============================] - 167s 2s/step - loss: 4.0753 - acc: 0.7444 - val_loss: 7.9712 - val_acc: 0.5000\n",
      "Epoch 52/100\n",
      "100/100 [==============================] - 166s 2s/step - loss: 4.0744 - acc: 0.7444 - val_loss: 7.9712 - val_acc: 0.5000\n",
      "Epoch 53/100\n",
      "100/100 [==============================] - 167s 2s/step - loss: 4.0504 - acc: 0.7459 - val_loss: 7.9712 - val_acc: 0.5000\n",
      "Epoch 54/100\n",
      "100/100 [==============================] - 167s 2s/step - loss: 4.1360 - acc: 0.7406 - val_loss: 7.9712 - val_acc: 0.5000\n",
      "Epoch 55/100\n",
      "100/100 [==============================] - 168s 2s/step - loss: 4.1192 - acc: 0.7416 - val_loss: 7.9712 - val_acc: 0.5000\n",
      "Epoch 56/100\n",
      "100/100 [==============================] - 169s 2s/step - loss: 4.0416 - acc: 0.7465 - val_loss: 7.9712 - val_acc: 0.5000\n",
      "Epoch 57/100\n",
      "100/100 [==============================] - 168s 2s/step - loss: 4.1333 - acc: 0.7407 - val_loss: 7.9712 - val_acc: 0.5000\n",
      "Epoch 58/100\n",
      "100/100 [==============================] - 169s 2s/step - loss: 4.0776 - acc: 0.7442 - val_loss: 7.9712 - val_acc: 0.5000\n",
      "Epoch 59/100\n",
      "100/100 [==============================] - 166s 2s/step - loss: 4.1591 - acc: 0.7391 - val_loss: 7.9712 - val_acc: 0.5000\n",
      "Epoch 60/100\n",
      "100/100 [==============================] - 190s 2s/step - loss: 3.9399 - acc: 0.7529 - val_loss: 7.9712 - val_acc: 0.5000\n",
      "Epoch 61/100\n"
     ]
    },
    {
     "name": "stdout",
     "output_type": "stream",
     "text": [
      "100/100 [==============================] - 241s 2s/step - loss: 4.1439 - acc: 0.7401 - val_loss: 7.9712 - val_acc: 0.5000\n",
      "Epoch 62/100\n",
      "100/100 [==============================] - 31077s 311s/step - loss: 4.1418 - acc: 0.7402 - val_loss: 7.9712 - val_acc: 0.5000\n",
      "Epoch 63/100\n",
      "100/100 [==============================] - 113s 1s/step - loss: 4.0486 - acc: 0.7460 - val_loss: 7.9712 - val_acc: 0.5000\n",
      "Epoch 64/100\n",
      "100/100 [==============================] - 107s 1s/step - loss: 4.1143 - acc: 0.7419 - val_loss: 7.9712 - val_acc: 0.5000\n",
      "Epoch 65/100\n",
      "100/100 [==============================] - 106s 1s/step - loss: 4.0820 - acc: 0.7440 - val_loss: 7.9712 - val_acc: 0.5000\n",
      "Epoch 66/100\n",
      "100/100 [==============================] - 127s 1s/step - loss: 4.1043 - acc: 0.7426 - val_loss: 7.9712 - val_acc: 0.5000\n",
      "Epoch 67/100\n",
      "100/100 [==============================] - 178s 2s/step - loss: 4.1439 - acc: 0.7401 - val_loss: 7.9712 - val_acc: 0.5000\n",
      "Epoch 68/100\n",
      "100/100 [==============================] - 136s 1s/step - loss: 4.0694 - acc: 0.7447 - val_loss: 7.9712 - val_acc: 0.5000\n",
      "Epoch 69/100\n",
      "100/100 [==============================] - 119s 1s/step - loss: 4.1260 - acc: 0.7412 - val_loss: 7.9712 - val_acc: 0.5000\n",
      "Epoch 70/100\n",
      "100/100 [==============================] - 126s 1s/step - loss: 4.1433 - acc: 0.7401 - val_loss: 7.9712 - val_acc: 0.5000\n",
      "Epoch 71/100\n",
      "100/100 [==============================] - 133s 1s/step - loss: 4.0228 - acc: 0.7477 - val_loss: 7.9712 - val_acc: 0.5000\n",
      "Epoch 72/100\n",
      "100/100 [==============================] - 124s 1s/step - loss: 4.0384 - acc: 0.7467 - val_loss: 7.9712 - val_acc: 0.5000\n",
      "Epoch 73/100\n",
      "100/100 [==============================] - 138s 1s/step - loss: 4.1110 - acc: 0.7421 - val_loss: 7.9712 - val_acc: 0.5000\n",
      "Epoch 74/100\n",
      "100/100 [==============================] - 166s 2s/step - loss: 4.1591 - acc: 0.7391 - val_loss: 7.9712 - val_acc: 0.5000\n",
      "Epoch 75/100\n",
      "100/100 [==============================] - 149s 1s/step - loss: 3.9897 - acc: 0.7497 - val_loss: 7.9712 - val_acc: 0.5000\n",
      "Epoch 76/100\n",
      "100/100 [==============================] - 148s 1s/step - loss: 4.1966 - acc: 0.7368 - val_loss: 7.9712 - val_acc: 0.5000\n",
      "Epoch 77/100\n",
      "100/100 [==============================] - 147s 1s/step - loss: 4.0504 - acc: 0.7459 - val_loss: 7.9712 - val_acc: 0.5000\n",
      "Epoch 78/100\n",
      "100/100 [==============================] - 145s 1s/step - loss: 4.0741 - acc: 0.7444 - val_loss: 7.9712 - val_acc: 0.5000\n",
      "Epoch 79/100\n",
      "100/100 [==============================] - 150s 2s/step - loss: 4.1541 - acc: 0.7394 - val_loss: 7.9712 - val_acc: 0.5000\n",
      "Epoch 80/100\n",
      "100/100 [==============================] - 147s 1s/step - loss: 4.0468 - acc: 0.7462 - val_loss: 7.9712 - val_acc: 0.5000\n",
      "Epoch 81/100\n",
      "100/100 [==============================] - 139s 1s/step - loss: 4.1794 - acc: 0.7378 - val_loss: 7.9712 - val_acc: 0.5000\n",
      "Epoch 82/100\n",
      "100/100 [==============================] - 140s 1s/step - loss: 4.0861 - acc: 0.7437 - val_loss: 7.9712 - val_acc: 0.5000\n",
      "Epoch 83/100\n",
      "100/100 [==============================] - 147s 1s/step - loss: 4.0624 - acc: 0.7452 - val_loss: 7.9712 - val_acc: 0.5000\n",
      "Epoch 84/100\n",
      "100/100 [==============================] - 146s 1s/step - loss: 4.0046 - acc: 0.7488 - val_loss: 7.9712 - val_acc: 0.5000\n",
      "Epoch 85/100\n",
      "100/100 [==============================] - 139s 1s/step - loss: 4.2039 - acc: 0.7363 - val_loss: 7.9712 - val_acc: 0.5000\n",
      "Epoch 86/100\n",
      "100/100 [==============================] - 120s 1s/step - loss: 4.0536 - acc: 0.7457 - val_loss: 7.9712 - val_acc: 0.5000\n",
      "Epoch 87/100\n",
      "100/100 [==============================] - 155s 2s/step - loss: 4.0255 - acc: 0.7475 - val_loss: 7.9712 - val_acc: 0.5000\n",
      "Epoch 88/100\n",
      "100/100 [==============================] - 178s 2s/step - loss: 4.1500 - acc: 0.7397 - val_loss: 7.9712 - val_acc: 0.5000\n",
      "Epoch 89/100\n",
      "100/100 [==============================] - 153s 2s/step - loss: 4.1480 - acc: 0.7398 - val_loss: 7.9712 - val_acc: 0.5000\n",
      "Epoch 90/100\n",
      "100/100 [==============================] - 150s 1s/step - loss: 4.0395 - acc: 0.7466 - val_loss: 7.9712 - val_acc: 0.5000\n",
      "Epoch 91/100\n",
      "100/100 [==============================] - 156s 2s/step - loss: 4.1418 - acc: 0.7402 - val_loss: 7.9712 - val_acc: 0.5000\n",
      "Epoch 92/100\n",
      "100/100 [==============================] - 159s 2s/step - loss: 4.1260 - acc: 0.7412 - val_loss: 7.9712 - val_acc: 0.5000\n",
      "Epoch 93/100\n",
      "100/100 [==============================] - 185s 2s/step - loss: 4.0885 - acc: 0.7435 - val_loss: 7.9712 - val_acc: 0.5000\n",
      "Epoch 94/100\n",
      "100/100 [==============================] - 183s 2s/step - loss: 4.0551 - acc: 0.7456 - val_loss: 7.9712 - val_acc: 0.5000\n",
      "Epoch 95/100\n",
      "100/100 [==============================] - 183s 2s/step - loss: 4.0744 - acc: 0.7444 - val_loss: 7.9712 - val_acc: 0.5000\n",
      "Epoch 96/100\n",
      "100/100 [==============================] - 181s 2s/step - loss: 4.0876 - acc: 0.7436 - val_loss: 7.9712 - val_acc: 0.5000\n",
      "Epoch 97/100\n",
      "100/100 [==============================] - 172s 2s/step - loss: 4.2034 - acc: 0.7363 - val_loss: 7.9712 - val_acc: 0.5000\n",
      "Epoch 98/100\n",
      "100/100 [==============================] - 176s 2s/step - loss: 4.0304 - acc: 0.7472 - val_loss: 7.9712 - val_acc: 0.5000\n",
      "Epoch 99/100\n",
      "100/100 [==============================] - 178s 2s/step - loss: 4.1102 - acc: 0.7422 - val_loss: 7.9712 - val_acc: 0.5000\n",
      "Epoch 100/100\n",
      "100/100 [==============================] - 180s 2s/step - loss: 4.1231 - acc: 0.7414 - val_loss: 7.9712 - val_acc: 0.5000\n"
     ]
    }
   ],
   "source": [
    "#Add data augmentation to the model setup and set the model to train; \n",
    "#See warnings above if you intend to run this block of code\n",
    "train_datagen = ImageDataGenerator(\n",
    "      rotation_range=40,\n",
    "      width_shift_range=0.2,\n",
    "      height_shift_range=0.2,\n",
    "      shear_range=0.2,\n",
    "      zoom_range=0.2,\n",
    "      horizontal_flip=True,\n",
    "      fill_mode='nearest')\n",
    "\n",
    "test_datagen = ImageDataGenerator(rescale=1./255)\n",
    "\n",
    "train_generator = train_datagen.flow_from_directory(\n",
    "        # This is the target directory\n",
    "        train_dir,\n",
    "        # All images will be resized to 150x150\n",
    "        target_size=(150, 150),\n",
    "        batch_size=32,\n",
    "        # Since we use binary_crossentropy loss, we need binary labels\n",
    "        class_mode='binary')\n",
    "\n",
    "validation_generator = test_datagen.flow_from_directory(\n",
    "        validation_dir,\n",
    "        target_size=(150, 150),\n",
    "        batch_size=32,\n",
    "        class_mode='binary')\n",
    "\n",
    "history = model.fit_generator(\n",
    "      train_generator,\n",
    "      steps_per_epoch=100,\n",
    "      epochs=100,\n",
    "      validation_data=validation_generator,\n",
    "      validation_steps=50)"
   ]
  },
  {
   "cell_type": "code",
   "execution_count": 10,
   "metadata": {
    "scrolled": true
   },
   "outputs": [
    {
     "data": {
      "image/png": "[encoded data removed]",
      "text/plain": [
       "<Figure size 432x288 with 1 Axes>"
      ]
     },
     "metadata": {
      "needs_background": "light"
     },
     "output_type": "display_data"
    },
    {
     "data": {
      "image/png": "[encoded data removed]",
      "text/plain": [
       "<Figure size 432x288 with 1 Axes>"
      ]
     },
     "metadata": {
      "needs_background": "light"
     },
     "output_type": "display_data"
    }
   ],
   "source": [
    "acc = history.history['acc']\n",
    "val_acc = history.history['val_acc']\n",
    "loss = history.history['loss']\n",
    "val_loss = history.history['val_loss']\n",
    "epochs = range(len(acc))\n",
    "plt.plot(epochs, acc, 'bo', label='Training acc')\n",
    "plt.plot(epochs, val_acc, 'b', label='Validation acc')\n",
    "plt.title('Training and validation accuracy')\n",
    "plt.legend()\n",
    "plt.figure()\n",
    "plt.plot(epochs, loss, 'bo', label='Training loss')\n",
    "plt.plot(epochs, val_loss, 'b', label='Validation loss')\n",
    "plt.title('Training and validation loss')\n",
    "plt.legend()\n",
    "plt.show()"
   ]
  },
  {
   "cell_type": "code",
   "execution_count": 11,
   "metadata": {},
   "outputs": [],
   "source": [
    "model.save('chest_xray_downsampled_with_augmentation_data.h5')"
   ]
  },
  {
   "cell_type": "markdown",
   "metadata": {},
   "source": [
    "## Final Evaluation\n",
    "\n",
    "Now use the test set to perform a final evaluation on your model of choice."
   ]
  },
  {
   "cell_type": "code",
   "execution_count": 12,
   "metadata": {},
   "outputs": [
    {
     "name": "stdout",
     "output_type": "stream",
     "text": [
      "Found 208 images belonging to 2 classes.\n",
      "test acc: 0.6186974829986316\n"
     ]
    }
   ],
   "source": [
    "# Your code here; perform a final evaluation using the test set..\n",
    "test_generator = test_datagen.flow_from_directory(\n",
    "        test_dir,\n",
    "        target_size=(150, 150),\n",
    "        batch_size=20,\n",
    "        class_mode='binary')\n",
    "test_loss, test_acc = model.evaluate_generator(test_generator, steps=50)\n",
    "print('test acc:', test_acc)"
   ]
  },
  {
   "cell_type": "markdown",
   "metadata": {},
   "source": [
    "## Extension: Adding Data to the Model\n",
    "\n",
    "As discussed, the current dataset we worked with is a subset of a dataset hosted on Kaggle. Increasing the data that we use to train the model will result in additional performance gains but will also result in longer training times and be more resource intensive.   \n",
    "\n",
    "It is estimated that training on the full dataset will take approximately 4 hours (and potentially significantly longer) depending on your computer's specifications.\n",
    "\n",
    "In order to test the impact of training on the full dataset, start by downloading the data from kaggle here: https://www.kaggle.com/paultimothymooney/chest-xray-pneumonia.   "
   ]
  },
  {
   "cell_type": "markdown",
   "metadata": {},
   "source": [
    "## Summary\n",
    "\n",
    "Well done! In this lab, you practice building your own CNN for image recognition which drastically outperformed our previous attempts using a standard deep learning model alone. In the upcoming sections, we'll continue to investigate further techniques associated with CNNs including visualizing the representations they learn and techniques to further bolster their performance when we have limited training data such as here."
   ]
  }
 ],
 "metadata": {
  "kernelspec": {
   "display_name": "Python 3",
   "language": "python",
   "name": "python3"
  },
  "language_info": {
   "codemirror_mode": {
    "name": "ipython",
    "version": 3
   },
   "file_extension": ".py",
   "mimetype": "text/x-python",
   "name": "python",
   "nbconvert_exporter": "python",
   "pygments_lexer": "ipython3",
   "version": "3.7.2"
  }
 },
 "nbformat": 4,
 "nbformat_minor": 2
}
